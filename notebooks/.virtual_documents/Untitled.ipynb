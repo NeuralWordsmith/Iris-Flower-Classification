import pandas as pd
from sklearn.datasets import load_iris


iris = load_iris()


df = pd.DataFrame(data=iris.data, columns=iris.feature_names)
df['species'] = iris.target


df['species'] = df['species'].map({i: name for i, name in enumerate(iris.target_names)})



print("First 5 rows of the dataset:")
print(df.head())


import seaborn as sns
import matplotlib.pyplot as plt

# 1. Basic dataset info
print("\nDataset shape:", df.shape)
print("\nDataset info:")
print(df.info())

# 2. Class distribution
print("\nClass distribution:")
print(df['species'].value_counts())

# 3. Summary statistics
print("\nSummary statistics:")
print(df.describe())

# 4. Pair plot to see feature distributions and separations
sns.pairplot(df, hue='species')
plt.suptitle("Pair Plot of Iris Features", y=1.02)
plt.show()



from sklearn.model_selection import train_test_split

# Features (X) and target (y)
X = df.drop(columns=['species'])
y = df['species']

# Encode labels if needed (in our case, they’re already strings — sklearn handles that)
# If you had numeric labels earlier, this is where you'd map them back

# Split the data
X_train, X_test, y_train, y_test = train_test_split(
    X, y, test_size=0.2, random_state=42, stratify=y
)

print("Training set size:", X_train.shape)
print("Test set size:", X_test.shape)



from sklearn.tree import DecisionTreeClassifier
from sklearn.metrics import accuracy_score

# Initialize the model
dt_model = DecisionTreeClassifier(random_state=42)

# Train the model
dt_model.fit(X_train, y_train)

# Make predictions
y_pred_dt = dt_model.predict(X_test)

# Evaluate accuracy
accuracy_dt = accuracy_score(y_test, y_pred_dt)
print("Decision Tree Accuracy:", round(accuracy_dt * 100, 2), "%")



from sklearn.ensemble import RandomForestClassifier

# Initialize the model
rf_model = RandomForestClassifier(n_estimators=100, random_state=42)

# Train the model
rf_model.fit(X_train, y_train)

# Make predictions
y_pred_rf = rf_model.predict(X_test)

# Evaluate accuracy
accuracy_rf = accuracy_score(y_test, y_pred_rf)
print("Random Forest Accuracy:", round(accuracy_rf * 100, 2), "%")



from sklearn.svm import SVC

# Initialize the model
svm_model = SVC(kernel='rbf', C=1.0, gamma='scale', random_state=42)

# Train the model
svm_model.fit(X_train, y_train)

# Make predictions
y_pred_svm = svm_model.predict(X_test)

# Evaluate accuracy
accuracy_svm = accuracy_score(y_test, y_pred_svm)
print("SVM Accuracy:", round(accuracy_svm * 100, 2), "%")



from sklearn.metrics import classification_report, confusion_matrix

# Print accuracy summary
print("Model Accuracy Comparison:")
print(f"Decision Tree:     {round(accuracy_dt * 100, 2)}%")
print(f"Random Forest:     {round(accuracy_rf * 100, 2)}%")
print(f"SVM:               {round(accuracy_svm * 100, 2)}%")

# Print classification reports
print("\nClassification Report (Decision Tree):")
print(classification_report(y_test, y_pred_dt))

print("Confusion Matrix (Decision Tree):")
print(confusion_matrix(y_test, y_pred_dt))

print("\nClassification Report (Random Forest):")
print(classification_report(y_test, y_pred_rf))

print("Confusion Matrix (Random Forest):")
print(confusion_matrix(y_test, y_pred_rf))

print("\nClassification Report (SVM):")
print(classification_report(y_test, y_pred_svm))

print("Confusion Matrix (SVM):")
print(confusion_matrix(y_test, y_pred_svm))



import seaborn as sns
import matplotlib.pyplot as plt
from sklearn.metrics import ConfusionMatrixDisplay

models = {
    "Decision Tree": (y_test, y_pred_dt),
    "Random Forest": (y_test, y_pred_rf),
    "SVM": (y_test, y_pred_svm)
}

for name, (y_true, y_pred) in models.items():
    plt.figure(figsize=(4, 3))
    sns.heatmap(confusion_matrix(y_true, y_pred), annot=True, fmt='d', cmap='Blues',
                xticklabels=iris.target_names, yticklabels=iris.target_names)
    plt.title(f"{name} - Confusion Matrix")
    plt.xlabel("Predicted")
    plt.ylabel("Actual")
    plt.tight_layout()
    plt.show()



import joblib

# Save the model
joblib.dump(svm_model, 'models/svm_iris_model.pkl')

print("SVM model saved to models/svm_iris_model.pkl")



import os
import joblib

# Create the 'models' directory if it doesn't exist
os.makedirs("models", exist_ok=True)

# Save the SVM model
joblib.dump(svm_model, "models/svm_iris_model.pkl")

print("SVM model saved successfully to models/svm_iris_model.pkl")



import joblib
import os

# Ensure correct path from root
os.makedirs("models", exist_ok=True)
joblib.dump(svm_model, "models/svm_iris_model.pkl")




